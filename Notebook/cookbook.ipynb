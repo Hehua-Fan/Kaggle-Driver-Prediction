{
 "cells": [
  {
   "cell_type": "markdown",
   "metadata": {},
   "source": [
    "\n",
    "| 根据下面要求，在右边写出对应代码 |                  train                   |                test                |\n",
    "| :------------------------------: | :--------------------------------------: | :--------------------------------: |\n",
    "|             读取csv              |    `train = pd.read_csv('train.csv')`    |  `test = pd.read_csv('test.csv')`  |\n",
    "|               行数               |            `len(train.index)`            |         `len(test.index)`          |\n",
    "|               列数               |           `len(train.columns)`           |        `len(test.columns)`         |\n",
    "|           共有多少元素           |               `train.size`               |            `test.size`             |\n",
    "|          是否含有target          |       `'target' in train.columns`        |      `'test' in test.columns`      |\n",
    "|     float64的变量有多少个？      |   `(train.dtypes == 'float64').sum()`    | `(test.dtypes == 'float64').sum()` |\n",
    "|       int64的变量有多少个?       |    `(train.dtypes == 'int64').sum()`     |  `(test.dtypes == 'int64').sum()`  |\n",
    "|       查看数据information        |              `train.info()`              |           `test.info()`            |\n",
    "|          查看数据前3行           |             `train.head(3)`              |           `test.head(3)`           |\n",
    "|          查看数据后8行           |             `train.tail(8)`              |           `test.tail(8)`           |\n",
    "|            数据的列名            |             `train.columns`              |           `test.columns`           |\n",
    "|            数据的维度            |              `train.shape`               |            `test.shape`            |\n",
    "|        数据各列的数据类型        |              `train.dtypes`              |           `test.dtypes`            |\n",
    "|   更改设置使数据最多只展示2行    |  `pd.set_option('display.max_rows',2)`   |                同左                |\n",
    "|   更改设置使数据最多只展示5列    | `pd.set_option('display.max_columns',5)` |                同左                |\n"
   ]
  },
  {
   "cell_type": "markdown",
   "metadata": {},
   "source": [
    "# Feature Engineering"
   ]
  },
  {
   "cell_type": "markdown",
   "metadata": {},
   "source": [
    "## Encoding (Discrete -> Continous)"
   ]
  },
  {
   "cell_type": "markdown",
   "metadata": {},
   "source": [
    "- OneHotEncoder (pivot table)\n",
    "  - no need to use in Tree model(no distance)\n",
    "  - 不适合一个column有特别多的category(cardinality too high)，容易造成high dimension sparse(dimension explosion)\n",
    "- Target Encoding\n",
    "  - Data Leakage(only fit train)：Maybe learn the target from valid or test data\n",
    "  - Unknown Category: Test dataset got the new or unseen category in the specific column\n",
    "  - Rare Categories(do smoothing): 100 apple: 2 orange, the orange is rare, so it is not representative\n",
    "  - Category Loss(add noise): After Target Mean Encoding, original different categories got the same values"
   ]
  },
  {
   "cell_type": "markdown",
   "metadata": {},
   "source": [
    "- Binary Feature or Target: LabelEncoder(Good for tree model, not linear model)\n",
    "- Ordinal Feature: OrdinalEncoder\n",
    "- nominal: OneHotEncoder(Not for tree model)"
   ]
  },
  {
   "cell_type": "markdown",
   "metadata": {},
   "source": [
    "## Binning (Continous -> Discrete)"
   ]
  },
  {
   "cell_type": "markdown",
   "metadata": {},
   "source": [
    "- Unsupervised\n",
    "  - Equal Width\n",
    "  - Equal Frequency\n",
    "- Supervised"
   ]
  },
  {
   "cell_type": "code",
   "execution_count": 1,
   "metadata": {},
   "outputs": [],
   "source": [
    "import pandas as pd\n",
    "value_list = [0, 10, 20, 59, 61, 79, 80, 90, 99, 100]"
   ]
  },
  {
   "cell_type": "code",
   "execution_count": 2,
   "metadata": {},
   "outputs": [
    {
     "data": {
      "text/plain": [
       "[(-0.001, 18.0], (-0.001, 18.0], (18.0, 60.2], (18.0, 60.2], (60.2, 79.4], (60.2, 79.4], (79.4, 91.8], (79.4, 91.8], (91.8, 100.0], (91.8, 100.0]]\n",
       "Categories (5, interval[float64, right]): [(-0.001, 18.0] < (18.0, 60.2] < (60.2, 79.4] < (79.4, 91.8] < (91.8, 100.0]]"
      ]
     },
     "execution_count": 2,
     "metadata": {},
     "output_type": "execute_result"
    }
   ],
   "source": [
    "# Equal Frequency\n",
    "value_freq_bins = pd.qcut(value_list, q=5)\n",
    "value_freq_bins"
   ]
  },
  {
   "cell_type": "code",
   "execution_count": 3,
   "metadata": {},
   "outputs": [
    {
     "data": {
      "text/plain": [
       "[(-0.1, 20.0], (-0.1, 20.0], (-0.1, 20.0], (40.0, 60.0], (60.0, 80.0], (60.0, 80.0], (60.0, 80.0], (80.0, 100.0], (80.0, 100.0], (80.0, 100.0]]\n",
       "Categories (5, interval[float64, right]): [(-0.1, 20.0] < (20.0, 40.0] < (40.0, 60.0] < (60.0, 80.0] < (80.0, 100.0]]"
      ]
     },
     "execution_count": 3,
     "metadata": {},
     "output_type": "execute_result"
    }
   ],
   "source": [
    "# Equal Width\n",
    "value_dis_bins = pd.cut(value_list, bins=5)\n",
    "value_dis_bins"
   ]
  }
 ],
 "metadata": {
  "kernelspec": {
   "display_name": "Python 3",
   "language": "python",
   "name": "python3"
  },
  "language_info": {
   "codemirror_mode": {
    "name": "ipython",
    "version": 3
   },
   "file_extension": ".py",
   "mimetype": "text/x-python",
   "name": "python",
   "nbconvert_exporter": "python",
   "pygments_lexer": "ipython3",
   "version": "3.9.16"
  }
 },
 "nbformat": 4,
 "nbformat_minor": 2
}
